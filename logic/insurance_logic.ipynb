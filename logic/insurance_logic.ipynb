{
 "cells": [
  {
   "cell_type": "code",
   "execution_count": null,
   "metadata": {},
   "outputs": [],
   "source": [
    "import pandas as pd\n",
    "import numpy  as np\n"
   ]
  },
  {
   "cell_type": "code",
   "execution_count": null,
   "metadata": {},
   "outputs": [],
   "source": [
    "\n",
    "mortalityTable=pd.read_csv('MortalityTable.csv',sep=';')\n",
    "mortalityTable.head()\n",
    "\n",
    "riskLoads=pd.read_csv('RiskLoads.csv',sep=';')\n",
    "riskLoads.head()\n",
    "riskLoads\n",
    "\n",
    "\n",
    "cover_amount=2500000 \n",
    "#Base rate determined by competitor analysis\n",
    "base_rate=0.01\n",
    "\n",
    "mortalityTable['ExpectedLossMale']=mortalityTable['Male_Hazard_Rate']*cover_amount\n",
    "mortalityTable['ExpectedLossFemale']=mortalityTable['Female_Hazard_Rate']*cover_amount\n",
    "mortalityTable.head()\n"
   ]
  },
  {
   "cell_type": "code",
   "execution_count": null,
   "metadata": {},
   "outputs": [],
   "source": [
    "\n",
    "\n",
    "def get_rate(age,gender,factors):\n",
    "\n",
    "    if gender=='male':\n",
    "        #hazardRate=mortalityTable.loc[mortalityTable.Age == age,'Male_Hazard_Rate'].values[0]\n",
    "        expectedLoss=mortalityTable.loc[mortalityTable.Age == age,'ExpectedLossMale'].values[0]\n",
    "        \n",
    "    else:\n",
    "        #hazardRate=mortalityTable.loc[mortalityTable.Age == age,'Female_Hazard_Rate'].values[0]\n",
    "        expectedLoss=mortalityTable.loc[mortalityTable.Age == age,'ExpectedLossFemale'].values[0]\n",
    "    \n",
    "    for i in factors:\n",
    "        print(i)\n",
    "        RiskLoad=riskLoads.loc[riskLoads.Factor== i,'RiskLoad'].values[0]\n",
    "        RiskLoad_adjusted=RiskLoad*expectedLoss\n",
    "        expectedLoss+=RiskLoad_adjusted\n",
    "\n",
    "    \n",
    "    # Yearly Premium as a percentage of cover amount\n",
    "    TotalRate=base_rate+(expectedLoss/cover_amount)\n",
    "\n",
    "    # Yearly premium (Expected loss+variable risk)\n",
    "    Annual_Premium=(base_rate*cover_amount)+expectedLoss\n",
    "\n",
    "    print('Your Annual Premium is:')\n",
    "\n",
    "\n",
    "     \n",
    "\n",
    "\n",
    "  \n",
    "    return Annual_Premium\n",
    "\n",
    "john=get_rate(24,'male',['Smoker','CarOwner'])\n",
    "print(john)"
   ]
  }
 ],
 "metadata": {
  "language_info": {
   "name": "python"
  },
  "orig_nbformat": 4
 },
 "nbformat": 4,
 "nbformat_minor": 2
}
